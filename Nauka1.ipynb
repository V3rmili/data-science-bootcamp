{
  "nbformat": 4,
  "nbformat_minor": 0,
  "metadata": {
    "colab": {
      "name": "Nauka1.ipynb",
      "provenance": [],
      "collapsed_sections": [],
      "authorship_tag": "ABX9TyN7ITY882kpb4z7YuUmFHvP",
      "include_colab_link": true
    },
    "kernelspec": {
      "name": "python3",
      "display_name": "Python 3"
    },
    "language_info": {
      "name": "python"
    }
  },
  "cells": [
    {
      "cell_type": "markdown",
      "metadata": {
        "id": "view-in-github",
        "colab_type": "text"
      },
      "source": [
        "<a href=\"https://colab.research.google.com/github/V3rmili/data-science-bootcamp/blob/main/Nauka1.ipynb\" target=\"_parent\"><img src=\"https://colab.research.google.com/assets/colab-badge.svg\" alt=\"Open In Colab\"/></a>"
      ]
    },
    {
      "cell_type": "code",
      "source": [
        "import numpy as np"
      ],
      "metadata": {
        "id": "mHn-ycDUHwXy"
      },
      "execution_count": 1,
      "outputs": []
    },
    {
      "cell_type": "code",
      "execution_count": null,
      "metadata": {
        "colab": {
          "base_uri": "https://localhost:8080/"
        },
        "id": "V8vC9UC3p99Z",
        "outputId": "2be3e3b3-fe2d-4c93-a2c1-45622c5ccbcb"
      },
      "outputs": [
        {
          "output_type": "stream",
          "name": "stdout",
          "text": [
            "Hello Colab\n"
          ]
        }
      ],
      "source": [
        "print(\"Hello Colab\")"
      ]
    },
    {
      "cell_type": "code",
      "source": [
        "x = np.random.randn(10, 5)\n",
        "\n",
        "print(x)"
      ],
      "metadata": {
        "colab": {
          "base_uri": "https://localhost:8080/"
        },
        "id": "8zuyN0XCHtA9",
        "outputId": "b6bfe5bc-f930-45e7-f4dc-6f4c50371809"
      },
      "execution_count": 3,
      "outputs": [
        {
          "output_type": "stream",
          "name": "stdout",
          "text": [
            "[[ 0.97371467  1.38344623  0.64208476  0.14589547  0.0193656 ]\n",
            " [ 1.48442076 -0.84293703 -0.08390966 -0.11718085  0.3869352 ]\n",
            " [ 1.30623748 -0.11764586 -1.90911962 -0.80766233  0.40647416]\n",
            " [-0.15114601 -0.12668003 -0.34911011  1.81685756 -1.02583891]\n",
            " [-0.2421945  -1.38246185 -0.60607093  0.24548146  0.70868386]\n",
            " [ 0.30578071 -1.87884358  1.07260195  0.99240891 -0.40350678]\n",
            " [-0.91893663 -0.26085955 -1.66851543 -1.82935375 -0.82567906]\n",
            " [ 1.0482585  -0.85186879  0.01527953 -0.78912693 -0.08454957]\n",
            " [ 1.80496462  1.15910497  0.21372849 -1.18982104 -1.40255053]\n",
            " [ 0.59348687 -0.448697    1.30840215  0.59278234 -0.41604571]]\n"
          ]
        }
      ]
    },
    {
      "cell_type": "code",
      "source": [
        "np.ndarray(3, dtype=int)"
      ],
      "metadata": {
        "colab": {
          "base_uri": "https://localhost:8080/"
        },
        "id": "qpjWYsUsH55Q",
        "outputId": "a5c480eb-888c-47bf-bafb-54f0e0fcf092"
      },
      "execution_count": 10,
      "outputs": [
        {
          "output_type": "execute_result",
          "data": {
            "text/plain": [
              "array([4604930618986332160, 4604930618986332160,                   0])"
            ]
          },
          "metadata": {},
          "execution_count": 10
        }
      ]
    },
    {
      "cell_type": "code",
      "source": [
        "x.ndim\n",
        "\n"
      ],
      "metadata": {
        "colab": {
          "base_uri": "https://localhost:8080/"
        },
        "id": "mK0Au-rxIH3W",
        "outputId": "78850a29-33b8-435c-fa36-00c7f0d1de36"
      },
      "execution_count": 9,
      "outputs": [
        {
          "output_type": "execute_result",
          "data": {
            "text/plain": [
              "2"
            ]
          },
          "metadata": {},
          "execution_count": 9
        }
      ]
    },
    {
      "cell_type": "code",
      "source": [],
      "metadata": {
        "id": "qZOzS3t9INVT"
      },
      "execution_count": null,
      "outputs": []
    }
  ]
}